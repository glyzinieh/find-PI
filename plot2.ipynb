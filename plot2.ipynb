{
 "cells": [
  {
   "cell_type": "code",
   "execution_count": null,
   "metadata": {},
   "outputs": [],
   "source": [
    "import os\n",
    "\n",
    "from FindPI.evaluate import ResultContainer2 as RC2\n",
    "\n",
    "PATH = r\"data/result\"\n",
    "\n",
    "\n",
    "results: list[RC2] = [\n",
    "    RC2.load(os.path.join(PATH, \"内接多角形.pkl2\")),\n",
    "    RC2.load(os.path.join(PATH, \"外接多角形.pkl2\")),\n",
    "    RC2.load(os.path.join(PATH, \"モンテカルロ法.pkl2\")),\n",
    "    RC2.load(os.path.join(PATH, \"ライプニッツ級数.pkl2\")),\n",
    "    RC2.load(os.path.join(PATH, \"チュドノフスキーの公式.pkl2\")),\n",
    "    RC2.load(os.path.join(PATH, \"区分求積法.pkl2\")),\n",
    "    RC2.load(os.path.join(PATH, \"二分法.pkl2\")),\n",
    "]"
   ]
  },
  {
   "cell_type": "code",
   "execution_count": null,
   "metadata": {},
   "outputs": [],
   "source": [
    "import matplotlib.pyplot as plt\n",
    "import matplotlib_fontja\n",
    "import mpmath\n",
    "\n",
    "matplotlib_fontja.japanize()\n",
    "\n",
    "fig, ax = plt.subplots(figsize=(10, 5))\n",
    "\n",
    "for result in results:\n",
    "    result.set_target(mpmath.pi())\n",
    "    x_list = result.get_column(\"time\")\n",
    "    y_list = result.get_column(\"digit\")\n",
    "    ax.plot(x_list, y_list, label=result.name)\n",
    "\n",
    "ax.set_xlim(0, 0.1)\n",
    "# ax.set_xlim(0, 0.001)\n",
    "\n",
    "ax.set_ylim(None, 14)\n",
    "\n",
    "ax.set_xlabel(\"時間\")\n",
    "ax.set_ylabel(\"正確な桁数\")\n",
    "ax.legend()\n",
    "plt.show()"
   ]
  }
 ],
 "metadata": {
  "kernelspec": {
   "display_name": "env",
   "language": "python",
   "name": "python3"
  },
  "language_info": {
   "codemirror_mode": {
    "name": "ipython",
    "version": 3
   },
   "file_extension": ".py",
   "mimetype": "text/x-python",
   "name": "python",
   "nbconvert_exporter": "python",
   "pygments_lexer": "ipython3",
   "version": "3.12.1"
  }
 },
 "nbformat": 4,
 "nbformat_minor": 2
}
