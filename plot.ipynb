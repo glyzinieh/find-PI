{
 "cells": [
  {
   "cell_type": "code",
   "execution_count": null,
   "metadata": {},
   "outputs": [],
   "source": [
    "import os\n",
    "\n",
    "from FindPI.evaluate import ResultContainer2 as RC2\n",
    "\n",
    "PATH = \"data/result\"\n",
    "\n",
    "\n",
    "results = [\n",
    "    RC2.load(os.path.join(PATH, \"内接多角形.pkl2\")),\n",
    "    RC2.load(os.path.join(PATH, \"外接多角形.pkl2\")),\n",
    "    RC2.load(os.path.join(PATH, \"モンテカルロ法.pkl2\")),\n",
    "    RC2.load(os.path.join(PATH, \"ライプニッツ級数.pkl2\")),\n",
    "    RC2.load(os.path.join(PATH, \"チュドノフスキーの公式.pkl2\")),\n",
    "    RC2.load(os.path.join(PATH, \"区分求積法.pkl2\")),\n",
    "    RC2.load(os.path.join(PATH, \"二分法.pkl2\")),\n",
    "]"
   ]
  },
  {
   "cell_type": "code",
   "execution_count": null,
   "metadata": {},
   "outputs": [],
   "source": [
    "import mpmath\n",
    "\n",
    "from FindPI.evaluate import Axis, HLine, PlotSettings, Plotter\n",
    "\n",
    "mpmath.mp.dps = 10000\n",
    "\n",
    "plot_settings = PlotSettings(\n",
    "    x_axis=Axis(\"time\", \"time\"),\n",
    "    y_axis=Axis(\"digit\", \"digit\"),\n",
    "    # hline=HLine(mpmath.pi(), \"π\"),\n",
    "    # marker=True\n",
    ")\n",
    "\n",
    "for result in results:\n",
    "    result.set_target(mpmath.pi())\n",
    "\n",
    "plotter = Plotter(\n",
    "    plot_settings=plot_settings,\n",
    "    results=results\n",
    ")"
   ]
  },
  {
   "cell_type": "code",
   "execution_count": null,
   "metadata": {},
   "outputs": [],
   "source": [
    "plotter.plot()\n",
    "plotter.save(\"data/plot\")"
   ]
  }
 ],
 "metadata": {
  "kernelspec": {
   "display_name": "env",
   "language": "python",
   "name": "python3"
  },
  "language_info": {
   "codemirror_mode": {
    "name": "ipython",
    "version": 3
   },
   "file_extension": ".py",
   "mimetype": "text/x-python",
   "name": "python",
   "nbconvert_exporter": "python",
   "pygments_lexer": "ipython3",
   "version": "3.12.1"
  }
 },
 "nbformat": 4,
 "nbformat_minor": 2
}
