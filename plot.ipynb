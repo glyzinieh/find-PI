{
 "cells": [
  {
   "cell_type": "code",
   "execution_count": null,
   "metadata": {},
   "outputs": [],
   "source": [
    "from FindPI.evaluate import ResultContainer\n",
    "\n",
    "results = [\n",
    "    # ResultContainer(\"内接多角形\", path=\"C:\\\\Users\\\\glyzi\\\\Downloads\\\\A_すべて_5桁\\\\結果\\\\内接多角形.pkl\"),\n",
    "    # ResultContainer(\"外接多角形\", path=\"C:\\\\Users\\\\glyzi\\\\Downloads\\\\A_すべて_5桁\\\\結果\\\\外接多角形.pkl\"),\n",
    "    # ResultContainer(\"モンテカルロ法\", path=\"C:\\\\Users\\\\glyzi\\\\Downloads\\\\A_すべて_5桁\\\\結果\\\\モンテカルロ法.pkl\"),\n",
    "    # ResultContainer(\"ライプニッツ級数\", path=\"C:\\\\Users\\\\glyzi\\\\Downloads\\\\A_すべて_5桁\\\\結果\\\\ライプニッツ級数.pkl\"),\n",
    "    # ResultContainer(\"チュドノフスキーの公式\", path=\"C:\\\\Users\\\\glyzi\\\\Downloads\\\\A_すべて_5桁\\\\結果\\\\チュドノフスキーの公式.pkl\"),\n",
    "    # ResultContainer(\"区分求積法\", path=\"C:\\\\Users\\\\glyzi\\\\Downloads\\\\A_すべて_5桁\\\\結果\\\\区分求積法.pkl\"),\n",
    "    ResultContainer(\"二分法\", path=\"C:\\\\Users\\\\glyzi\\\\Downloads\\\\A_すべて_5桁\\\\結果\\\\二分法.pkl\"),\n",
    "]"
   ]
  },
  {
   "cell_type": "code",
   "execution_count": null,
   "metadata": {},
   "outputs": [],
   "source": [
    "import mpmath\n",
    "\n",
    "from FindPI.evaluate import Axis, HLine, PlotSettings, Plotter\n",
    "\n",
    "mpmath.mp.dps = 10000\n",
    "\n",
    "plot_settings = PlotSettings(\n",
    "    x_axis=Axis(\"time\", \"time\"),\n",
    "    y_axis=Axis(\"digit\", \"digit\"),\n",
    "    # hline=HLine(mpmath.pi(), \"π\"),\n",
    "    # marker=True\n",
    ")\n",
    "\n",
    "for result in results:\n",
    "    result.set_target(mpmath.pi())\n",
    "\n",
    "plotter = Plotter(\n",
    "    plot_settings=plot_settings,\n",
    "    results=results\n",
    ")"
   ]
  },
  {
   "cell_type": "code",
   "execution_count": null,
   "metadata": {},
   "outputs": [],
   "source": [
    "plotter.plot()"
   ]
  },
  {
   "cell_type": "code",
   "execution_count": null,
   "metadata": {},
   "outputs": [],
   "source": [
    "plotter.save(\"data/plot\")"
   ]
  }
 ],
 "metadata": {
  "kernelspec": {
   "display_name": "env",
   "language": "python",
   "name": "python3"
  },
  "language_info": {
   "codemirror_mode": {
    "name": "ipython",
    "version": 3
   },
   "file_extension": ".py",
   "mimetype": "text/x-python",
   "name": "python",
   "nbconvert_exporter": "python",
   "pygments_lexer": "ipython3",
   "version": "3.12.1"
  }
 },
 "nbformat": 4,
 "nbformat_minor": 2
}
