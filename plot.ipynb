{
 "cells": [
  {
   "cell_type": "code",
   "execution_count": null,
   "metadata": {},
   "outputs": [],
   "source": [
    "from FindPI.evaluate import ResultContainer\n",
    "\n",
    "results = [\n",
    "    ResultContainer(\"内接多角形\", path=\"data/result/内接多角形.pkl\"),\n",
    "    ResultContainer(\"外接多角形\", path=\"data/result/外接多角形.pkl\"),\n",
    "    # ResultContainer(\"モンテカルロ法\", path=\"data/result/モンテカルロ法.pkl\"),\n",
    "    ResultContainer(\"ライプニッツ級数\", path=\"data/result/ライプニッツ級数.pkl\"),\n",
    "    ResultContainer(\"チュドノフスキーの公式\", path=\"data/result/チュドノフスキーの公式.pkl\"),\n",
    "    ResultContainer(\"区分求積法\", path=\"data/result/区分求積法.pkl\"),\n",
    "    ResultContainer(\"二分法\", path=\"data/result/二分法.pkl\"),\n",
    "]"
   ]
  },
  {
   "cell_type": "code",
   "execution_count": null,
   "metadata": {},
   "outputs": [],
   "source": [
    "import mpmath\n",
    "\n",
    "from FindPI.evaluate import Axis, HLine, PlotSettings, Plotter\n",
    "\n",
    "mpmath.mp.dps = 1000\n",
    "\n",
    "plot_settings = PlotSettings(\n",
    "    x_axis=Axis(\"time\", \"time\"),\n",
    "    y_axis=Axis(\"digit\", \"digit\"),\n",
    "    # hline=HLine(mpmath.pi(), \"π\"),\n",
    "    # marker=True\n",
    ")\n",
    "\n",
    "for result in results:\n",
    "    result.set_target(mpmath.pi())\n",
    "\n",
    "plotter = Plotter(\n",
    "    plot_settings=plot_settings,\n",
    "    results=results\n",
    ")"
   ]
  },
  {
   "cell_type": "code",
   "execution_count": null,
   "metadata": {},
   "outputs": [],
   "source": [
    "plotter.plot()"
   ]
  },
  {
   "cell_type": "code",
   "execution_count": null,
   "metadata": {},
   "outputs": [],
   "source": [
    "plotter.save(\"data/plot\")"
   ]
  }
 ],
 "metadata": {
  "kernelspec": {
   "display_name": "env",
   "language": "python",
   "name": "python3"
  },
  "language_info": {
   "codemirror_mode": {
    "name": "ipython",
    "version": 3
   },
   "file_extension": ".py",
   "mimetype": "text/x-python",
   "name": "python",
   "nbconvert_exporter": "python",
   "pygments_lexer": "ipython3",
   "version": "3.12.1"
  }
 },
 "nbformat": 4,
 "nbformat_minor": 2
}
