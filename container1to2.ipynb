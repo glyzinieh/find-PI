{
 "cells": [
  {
   "cell_type": "code",
   "execution_count": 3,
   "metadata": {},
   "outputs": [],
   "source": [
    "PATH = \"C:\\\\Users\\\\glyzi\\\\Downloads\\\\A_すべて_5桁\\\\結果\""
   ]
  },
  {
   "cell_type": "code",
   "execution_count": 4,
   "metadata": {},
   "outputs": [],
   "source": [
    "from FindPI.evaluate import ResultContainer\n",
    "import os\n",
    "\n",
    "results = [\n",
    "    ResultContainer(\"内接多角形\", path=os.path.join(PATH, \"内接多角形.pkl\")),\n",
    "    ResultContainer(\"外接多角形\", path=os.path.join(PATH, \"外接多角形.pkl\")),\n",
    "    ResultContainer(\"モンテカルロ法\", path=os.path.join(PATH, \"モンテカルロ法.pkl\")),\n",
    "    ResultContainer(\"ライプニッツ級数\", path=os.path.join(PATH, \"ライプニッツ級数.pkl\")),\n",
    "    ResultContainer(\"チュドノフスキーの公式\", path=os.path.join(PATH, \"チュドノフスキーの公式.pkl\")),\n",
    "    ResultContainer(\"区分求積法\", path=os.path.join(PATH, \"区分求積法.pkl\")),\n",
    "    ResultContainer(\"二分法\", path=os.path.join(PATH, \"二分法.pkl\")),\n",
    "]"
   ]
  },
  {
   "cell_type": "code",
   "execution_count": 5,
   "metadata": {},
   "outputs": [
    {
     "name": "stderr",
     "output_type": "stream",
     "text": [
      "100%|██████████| 7/7 [00:01<00:00,  3.98it/s]\n"
     ]
    }
   ],
   "source": [
    "from tqdm import tqdm\n",
    "\n",
    "for result1 in tqdm(results):\n",
    "    result2 = result1.container1to2()\n",
    "    result2.save(os.path.join(PATH, f\"{result1.name}.pkl2\"))"
   ]
  }
 ],
 "metadata": {
  "kernelspec": {
   "display_name": "env",
   "language": "python",
   "name": "python3"
  },
  "language_info": {
   "codemirror_mode": {
    "name": "ipython",
    "version": 3
   },
   "file_extension": ".py",
   "mimetype": "text/x-python",
   "name": "python",
   "nbconvert_exporter": "python",
   "pygments_lexer": "ipython3",
   "version": "3.12.1"
  }
 },
 "nbformat": 4,
 "nbformat_minor": 2
}
