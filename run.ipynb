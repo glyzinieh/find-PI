{
 "cells": [
  {
   "cell_type": "code",
   "execution_count": 1,
   "metadata": {},
   "outputs": [],
   "source": [
    "from FindPI import conditions\n",
    "from FindPI.evaluate import Comparer\n",
    "\n",
    "DIGITS = 5\n",
    "\n",
    "THRESHOLD = 1e-5\n",
    "TIMES = 100\n",
    "\n",
    "# CONDITION = conditions.DigitsAndDistance(digits=DIGITS, threshold=THRESHOLD)\n",
    "CONDITION = conditions.Times(times=TIMES)\n",
    "\n",
    "findPI = Comparer(CONDITION)"
   ]
  },
  {
   "cell_type": "code",
   "execution_count": null,
   "metadata": {},
   "outputs": [],
   "source": [
    "import math\n",
    "import random\n",
    "from math import factorial\n",
    "\n",
    "import gmpy2  # type: ignore\n",
    "from gmpy2 import mpfr, sqrt  # type: ignore\n",
    "\n",
    "from FindPI.math_funcs import cos, sin, tan\n",
    "\n",
    "gmpy2.get_context().precision = 1000000\n",
    "\n",
    "\n",
    "@findPI.func(\"内接多角形\", {\"n\": 3})\n",
    "def incribed(n):\n",
    "    value = mpfr(n) / 2 * mpfr(sqrt(2 - 2 * cos(mpfr(360) / n)))\n",
    "    n += 1\n",
    "    return value, {\"n\": n}\n",
    "\n",
    "\n",
    "@findPI.func(\"外接多角形\", {\"n\": 3})\n",
    "def outcribed(n):\n",
    "    value = mpfr(n) * mpfr(tan(mpfr(180) / n))\n",
    "    n += 1\n",
    "    return value, {\"n\": n}\n",
    "\n",
    "\n",
    "@findPI.func(\"モンテカルロ法\", {\"n\": 0, \"in_circle\": 0})\n",
    "def montecarlo(n, in_circle):\n",
    "    x = mpfr(random.random())\n",
    "    y = mpfr(random.random())\n",
    "    if x**2 + y**2 <= 1:\n",
    "        in_circle += 1\n",
    "    n += 1\n",
    "    value = 4 * mpfr(in_circle) / n\n",
    "    return value, {\"n\": n, \"in_circle\": in_circle}\n",
    "\n",
    "\n",
    "@findPI.func(\"ライプニッツ級数\", {\"n\": 0, \"s\": 0})\n",
    "def leibniz(n, s):\n",
    "    s += mpfr((-1) ** n) / (2 * n + 1)\n",
    "    value = s * 4\n",
    "    n += 1\n",
    "    return value, {\"n\": n, \"s\": s}\n",
    "\n",
    "\n",
    "@findPI.func(\"チュドノフスキーの公式\", {\"n\": 0, \"s\": 0})\n",
    "def chudnovsky(n, s):\n",
    "    s += (\n",
    "        (mpfr((-1) ** n) * mpfr(factorial(6 * n)))\n",
    "        / (mpfr(factorial(3 * n)) * (mpfr(factorial(n)) ** 3))\n",
    "    ) * (mpfr(13591409 + 545140134 * n) / (mpfr(640320) ** (3 * n + mpfr(3) / 2)))\n",
    "    value = 1 / (12 * s)\n",
    "    n += 1\n",
    "    return value, {\"n\": n, \"s\": s}\n",
    "\n",
    "\n",
    "@findPI.func(\"区分求積法\", {\"n\": 1})\n",
    "def quadrature(n):\n",
    "    s = mpfr(0)\n",
    "    dx = mpfr(1) / n\n",
    "    x = mpfr(1) / n / 2\n",
    "    for _ in range(n):\n",
    "        y = mpfr(sqrt(1 - x**2))\n",
    "        s += dx * y\n",
    "        x += dx\n",
    "    value = s * 4\n",
    "    n += 1\n",
    "    return value, {\"n\": n}\n",
    "\n",
    "\n",
    "@findPI.func(\"二分法\", {\"x_1\": 0, \"x_2\": 3})\n",
    "def dichotomy(x_1, x_2):\n",
    "    x_1 = mpfr(x_1)\n",
    "    x_2 = mpfr(x_2)\n",
    "    wj = (x_1 + x_2) / 2\n",
    "    if mpfr(math.tan(wj)) < 1:\n",
    "        x_1 = wj\n",
    "    else:\n",
    "        x_2 = wj\n",
    "    value = wj * 4\n",
    "    return value, {\"x_1\": x_1, \"x_2\": x_2}"
   ]
  },
  {
   "cell_type": "code",
   "execution_count": 3,
   "metadata": {},
   "outputs": [
    {
     "name": "stderr",
     "output_type": "stream",
     "text": [
      "100%|██████████| 7/7 [00:00<00:00, 19.01it/s]\n"
     ]
    }
   ],
   "source": [
    "findPI.run()\n",
    "findPI.save(\"data/result\")"
   ]
  }
 ],
 "metadata": {
  "kernelspec": {
   "display_name": "env",
   "language": "python",
   "name": "python3"
  },
  "language_info": {
   "codemirror_mode": {
    "name": "ipython",
    "version": 3
   },
   "file_extension": ".py",
   "mimetype": "text/x-python",
   "name": "python",
   "nbconvert_exporter": "python",
   "pygments_lexer": "ipython3",
   "version": "3.12.1"
  }
 },
 "nbformat": 4,
 "nbformat_minor": 2
}
