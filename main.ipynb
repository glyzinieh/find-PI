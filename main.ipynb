{
  "nbformat": 4,
  "nbformat_minor": 0,
  "metadata": {
    "colab": {
      "provenance": [],
      "authorship_tag": "ABX9TyPb4ndcm9FcQhWHFDUHTHwX",
      "include_colab_link": true
    },
    "kernelspec": {
      "name": "python3",
      "display_name": "Python 3"
    },
    "language_info": {
      "name": "python"
    }
  },
  "cells": [
    {
      "cell_type": "markdown",
      "metadata": {
        "id": "view-in-github",
        "colab_type": "text"
      },
      "source": [
        "<a href=\"https://colab.research.google.com/github/glyzinieh/find-PI/blob/main/main.ipynb\" target=\"_parent\"><img src=\"https://colab.research.google.com/assets/colab-badge.svg\" alt=\"Open In Colab\"/></a>"
      ]
    },
    {
      "cell_type": "code",
      "execution_count": null,
      "metadata": {
        "id": "CC3pzpGIoOJV",
        "collapsed": true
      },
      "outputs": [],
      "source": [
        "%matplotlib inline\n",
        "\n",
        "%cd /content\n",
        "!git clone https://github.com/glyzinieh/find-PI.git\n",
        "%cd find-PI\n",
        "\n",
        "!pip install gmpy2 matplotlib-fontja mpmath tqdm\n",
        "\n",
        "!mkdir data\n",
        "!mkdir data/result\n",
        "!mkdir data/plot"
      ]
    },
    {
      "cell_type": "code",
      "source": [
        "from FindPI import conditions\n",
        "from FindPI.evaluate import Comparer\n",
        "\n",
        "DIGITS = 2\n",
        "THRESHOLD = 1e-3\n",
        "TIMES = 10\n",
        "\n",
        "# CONDITION = conditions.Distance(threshold=THRESHOLD)\n",
        "# CONDITION = conditions.DigitsAndDistance(digits=DIGITS, threshold=THRESHOLD)\n",
        "CONDITION = conditions.Times(times=TIMES)\n",
        "\n",
        "findPI = Comparer(CONDITION)"
      ],
      "metadata": {
        "id": "kHxzQWtEo3x5"
      },
      "execution_count": null,
      "outputs": []
    },
    {
      "cell_type": "code",
      "source": [
        "import math\n",
        "import random\n",
        "\n",
        "from mpmath import factorial, mp, mpf, sqrt\n",
        "\n",
        "from FindPI.math_funcs import cos, sin, tan\n",
        "\n",
        "mp.dps = 10000\n",
        "\n",
        "\n",
        "@findPI.func(\"内接多角形\", {\"n\": 3})\n",
        "def incribed(n):\n",
        "    value = mpf(n) / mpf(2) * sqrt(2 - 2 * cos(360 / n))\n",
        "    n += 1\n",
        "    return value, {\"n\": n}\n",
        "\n",
        "\n",
        "@findPI.func(\"外接多角形\", {\"n\": 3})\n",
        "def outcribed(n):\n",
        "    value = n * tan(180 / n)\n",
        "    n += 1\n",
        "    return value, {\"n\": n}\n",
        "\n",
        "\n",
        "@findPI.func(\"モンテカルロ法\", {\"n\": 0, \"in_circle\": 0})\n",
        "def montecarlo(n, in_circle):\n",
        "    x = random.random()\n",
        "    y = random.random()\n",
        "    if x**2 + y**2 <= 1:\n",
        "        in_circle += 1\n",
        "    n += 1\n",
        "    value = 4 * mpf(in_circle) / mpf(n)\n",
        "    return value, {\"n\": n, \"in_circle\": in_circle}\n",
        "\n",
        "\n",
        "@findPI.func(\"ライプニッツ級数\", {\"n\": 0, \"s\": 0})\n",
        "def leibniz(n, s):\n",
        "    s += mpf((-1) ** n) / mpf(2 * n + 1)\n",
        "    value = s * 4\n",
        "    n += 1\n",
        "    return value, {\"n\": n, \"s\": s}\n",
        "\n",
        "\n",
        "@findPI.func(\"チュドノフスキーの公式\", {\"n\": 0, \"s\": 0})\n",
        "def chudnovsky(n, s):\n",
        "    A = mpf(545140134)\n",
        "    B = mpf(13591409)\n",
        "    C = mpf(640320)\n",
        "    s += (mpf(-1)**n) * factorial(6 * n) * (A * n + B) / (factorial(3 * n) * (factorial(n) ** 3) * (C ** (3 * (n + 1 / 2))))\n",
        "    value = 1 / (12 * s)\n",
        "    n += 1\n",
        "    return value, {\"n\": n, \"s\": s}\n",
        "\n",
        "\n",
        "@findPI.func(\"区分求積法\", {\"n\": 1})\n",
        "def quadrature(n):\n",
        "    s = 0\n",
        "    dx = mpf(1) / mpf(n)\n",
        "    x = mpf(1) / mpf(n) / mpf(2)\n",
        "    for _ in range(n):\n",
        "        y = sqrt(1 - x**2)\n",
        "        s += dx * y\n",
        "        x += dx\n",
        "    value = s * 4\n",
        "    n += 1\n",
        "    return value, {\"n\": n}\n",
        "\n",
        "\n",
        "@findPI.func(\"二分法\", {\"x_1\": 0, \"x_2\": 3})\n",
        "def dichotomy(x_1, x_2):\n",
        "    wj = mpf(x_1 + x_2) / mpf(2)\n",
        "    if math.tan(wj) < 1:\n",
        "        x_1 = wj\n",
        "    else:\n",
        "        x_2 = wj\n",
        "    value = wj * 4\n",
        "    return value, {\"x_1\": x_1, \"x_2\": x_2}"
      ],
      "metadata": {
        "id": "5CmtE25VqQSD"
      },
      "execution_count": null,
      "outputs": []
    },
    {
      "cell_type": "code",
      "source": [
        "findPI.run()\n",
        "findPI.save(\"data/result\")"
      ],
      "metadata": {
        "id": "WzPe_cfTqSx0"
      },
      "execution_count": null,
      "outputs": []
    },
    {
      "cell_type": "code",
      "source": [
        "import os\n",
        "\n",
        "from FindPI.evaluate import ResultContainer2 as RC2\n",
        "\n",
        "PATH = \"data/result\"\n",
        "\n",
        "\n",
        "results = [\n",
        "    RC2.load(os.path.join(PATH, \"内接多角形.pkl2\")),\n",
        "    RC2.load(os.path.join(PATH, \"外接多角形.pkl2\")),\n",
        "    RC2.load(os.path.join(PATH, \"モンテカルロ法.pkl2\")),\n",
        "    RC2.load(os.path.join(PATH, \"ライプニッツ級数.pkl2\")),\n",
        "    RC2.load(os.path.join(PATH, \"チュドノフスキーの公式.pkl2\")),\n",
        "    RC2.load(os.path.join(PATH, \"区分求積法.pkl2\")),\n",
        "    RC2.load(os.path.join(PATH, \"二分法.pkl2\")),\n",
        "]"
      ],
      "metadata": {
        "id": "Pv2py_PLqvyy"
      },
      "execution_count": null,
      "outputs": []
    },
    {
      "cell_type": "code",
      "source": [
        "import mpmath\n",
        "\n",
        "from FindPI.evaluate import Axis, HLine, PlotSettings, Plotter\n",
        "\n",
        "mpmath.mp.dps = 10000\n",
        "\n",
        "plot_settings = PlotSettings(\n",
        "    x_axis=Axis(\"time\", \"time\"),\n",
        "    y_axis=Axis(\"digit\", \"digit\"),\n",
        "    # hline=HLine(mpmath.pi(), \"π\"),\n",
        "    # marker=True\n",
        ")\n",
        "\n",
        "for result in results:\n",
        "    result.set_target(mpmath.pi())\n",
        "\n",
        "plotter = Plotter(\n",
        "    plot_settings=plot_settings,\n",
        "    results=results\n",
        ")"
      ],
      "metadata": {
        "id": "fpFEIC_0q0Z_"
      },
      "execution_count": null,
      "outputs": []
    },
    {
      "cell_type": "code",
      "source": [
        "plotter.plot()\n",
        "plotter.save(\"data/plot\")"
      ],
      "metadata": {
        "id": "wvKHmpBwq2UG"
      },
      "execution_count": null,
      "outputs": []
    }
  ]
}