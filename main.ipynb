{
  "nbformat": 4,
  "nbformat_minor": 0,
  "metadata": {
    "colab": {
      "provenance": [],
      "authorship_tag": "ABX9TyNnb2Zphexzvd1Xt9uQM/5v",
      "include_colab_link": true
    },
    "kernelspec": {
      "name": "python3",
      "display_name": "Python 3"
    },
    "language_info": {
      "name": "python"
    }
  },
  "cells": [
    {
      "cell_type": "markdown",
      "metadata": {
        "id": "view-in-github",
        "colab_type": "text"
      },
      "source": [
        "<a href=\"https://colab.research.google.com/github/glyzinieh/find-PI/blob/main/main.ipynb\" target=\"_parent\"><img src=\"https://colab.research.google.com/assets/colab-badge.svg\" alt=\"Open In Colab\"/></a>"
      ]
    },
    {
      "cell_type": "code",
      "execution_count": 1,
      "metadata": {
        "colab": {
          "base_uri": "https://localhost:8080/"
        },
        "id": "CC3pzpGIoOJV",
        "outputId": "3130d204-e43d-4ba2-996f-a1570196cca4",
        "collapsed": true
      },
      "outputs": [
        {
          "output_type": "stream",
          "name": "stdout",
          "text": [
            "/content\n",
            "fatal: destination path 'find-PI' already exists and is not an empty directory.\n",
            "/content/find-PI\n",
            "Requirement already satisfied: gmpy2 in /usr/local/lib/python3.10/dist-packages (2.2.1)\n",
            "Requirement already satisfied: matplotlib-fontja in /usr/local/lib/python3.10/dist-packages (1.0.0)\n",
            "Requirement already satisfied: mpmath in /usr/local/lib/python3.10/dist-packages (1.3.0)\n",
            "Requirement already satisfied: tqdm in /usr/local/lib/python3.10/dist-packages (4.66.6)\n",
            "Requirement already satisfied: matplotlib in /usr/local/lib/python3.10/dist-packages (from matplotlib-fontja) (3.8.0)\n",
            "Requirement already satisfied: contourpy>=1.0.1 in /usr/local/lib/python3.10/dist-packages (from matplotlib->matplotlib-fontja) (1.3.0)\n",
            "Requirement already satisfied: cycler>=0.10 in /usr/local/lib/python3.10/dist-packages (from matplotlib->matplotlib-fontja) (0.12.1)\n",
            "Requirement already satisfied: fonttools>=4.22.0 in /usr/local/lib/python3.10/dist-packages (from matplotlib->matplotlib-fontja) (4.54.1)\n",
            "Requirement already satisfied: kiwisolver>=1.0.1 in /usr/local/lib/python3.10/dist-packages (from matplotlib->matplotlib-fontja) (1.4.7)\n",
            "Requirement already satisfied: numpy<2,>=1.21 in /usr/local/lib/python3.10/dist-packages (from matplotlib->matplotlib-fontja) (1.26.4)\n",
            "Requirement already satisfied: packaging>=20.0 in /usr/local/lib/python3.10/dist-packages (from matplotlib->matplotlib-fontja) (24.1)\n",
            "Requirement already satisfied: pillow>=6.2.0 in /usr/local/lib/python3.10/dist-packages (from matplotlib->matplotlib-fontja) (10.4.0)\n",
            "Requirement already satisfied: pyparsing>=2.3.1 in /usr/local/lib/python3.10/dist-packages (from matplotlib->matplotlib-fontja) (3.2.0)\n",
            "Requirement already satisfied: python-dateutil>=2.7 in /usr/local/lib/python3.10/dist-packages (from matplotlib->matplotlib-fontja) (2.8.2)\n",
            "Requirement already satisfied: six>=1.5 in /usr/local/lib/python3.10/dist-packages (from python-dateutil>=2.7->matplotlib->matplotlib-fontja) (1.16.0)\n"
          ]
        }
      ],
      "source": [
        "%matplotlib inline\n",
        "\n",
        "%cd /content\n",
        "!git clone https://github.com/glyzinieh/find-PI.git\n",
        "%cd find-PI\n",
        "\n",
        "!pip install gmpy2 matplotlib-fontja mpmath tqdm"
      ]
    },
    {
      "cell_type": "code",
      "source": [
        "from FindPI import conditions\n",
        "from FindPI.evaluate import Comparer\n",
        "\n",
        "DIGITS = 5\n",
        "THRESHOLD = 1e-6\n",
        "TIMES = 10\n",
        "\n",
        "CONDITION = conditions.Distance(threshold=THRESHOLD)\n",
        "# CONDITION = conditions.Digits(digits=DIGITS)\n",
        "# CONDITION = conditions.Times(times=TIMES)\n",
        "\n",
        "findPI = Comparer(CONDITION)"
      ],
      "metadata": {
        "id": "kHxzQWtEo3x5"
      },
      "execution_count": 9,
      "outputs": []
    },
    {
      "cell_type": "code",
      "source": [
        "import math\n",
        "import random\n",
        "\n",
        "from mpmath import factorial, mp, mpf, sqrt\n",
        "\n",
        "from FindPI.math_funcs import cos, sin, tan\n",
        "\n",
        "mp.dps = 1000\n",
        "\n",
        "\n",
        "@findPI.func(\"内接多角形\", {\"n\": 3})\n",
        "def incribed(n):\n",
        "    value = mpf(n) / mpf(2) * sqrt(2 - 2 * cos(360 / n))\n",
        "    n += 1\n",
        "    return value, {\"n\": n}\n",
        "\n",
        "\n",
        "@findPI.func(\"外接多角形\", {\"n\": 3})\n",
        "def outcribed(n):\n",
        "    value = n * tan(180 / n)\n",
        "    n += 1\n",
        "    return value, {\"n\": n}\n",
        "\n",
        "\n",
        "# @findPI.func(\"モンテカルロ法\", {\"n\": 0, \"in_circle\": 0})\n",
        "def montecarlo(n, in_circle):\n",
        "    x = random.random()\n",
        "    y = random.random()\n",
        "    if x**2 + y**2 <= 1:\n",
        "        in_circle += 1\n",
        "    n += 1\n",
        "    value = 4 * mpf(in_circle) / mpf(n)\n",
        "    return value, {\"n\": n, \"in_circle\": in_circle}\n",
        "\n",
        "\n",
        "@findPI.func(\"ライプニッツ級数\", {\"n\": 0, \"s\": 0})\n",
        "def leibniz(n, s):\n",
        "    s += mpf((-1) ** n) / mpf(2 * n + 1)\n",
        "    value = s * 4\n",
        "    n += 1\n",
        "    return value, {\"n\": n, \"s\": s}\n",
        "\n",
        "\n",
        "@findPI.func(\"チュドノフスキーの公式\", {\"n\": 0, \"s\": 0})\n",
        "def chudnovsky(n, s):\n",
        "    A = mpf(545140134)\n",
        "    B = mpf(13591409)\n",
        "    C = mpf(640320)\n",
        "    s += (mpf(-1)**n) * factorial(6 * n) * (A * n + B) / (factorial(3 * n) * (factorial(n) ** 3) * (C ** (3 * (n + 1 / 2))))\n",
        "    value = 1 / (12 * s)\n",
        "    n += 1\n",
        "    return value, {\"n\": n, \"s\": s}\n",
        "\n",
        "\n",
        "@findPI.func(\"区分求積法\", {\"n\": 1})\n",
        "def quadrature(n):\n",
        "    s = 0\n",
        "    dx = mpf(1) / mpf(n)\n",
        "    x = mpf(1) / mpf(n) / mpf(2)\n",
        "    for _ in range(n):\n",
        "        y = sqrt(1 - x**2)\n",
        "        s += dx * y\n",
        "        x += dx\n",
        "    value = s * 4\n",
        "    n += 1\n",
        "    return value, {\"n\": n}\n",
        "\n",
        "\n",
        "@findPI.func(\"二分法\", {\"x_1\": 0, \"x_2\": 3})\n",
        "def dichotomy(x_1, x_2):\n",
        "    wj = mpf(x_1 + x_2) / 2\n",
        "    if math.tan(wj) < 1:\n",
        "        x_1 = wj\n",
        "    else:\n",
        "        x_2 = wj\n",
        "    value = wj * 4\n",
        "    return value, {\"x_1\": x_1, \"x_2\": x_2}"
      ],
      "metadata": {
        "id": "5CmtE25VqQSD"
      },
      "execution_count": 10,
      "outputs": []
    },
    {
      "cell_type": "code",
      "source": [
        "findPI.run()\n",
        "findPI.save(\"data/result\")"
      ],
      "metadata": {
        "colab": {
          "base_uri": "https://localhost:8080/"
        },
        "id": "WzPe_cfTqSx0",
        "outputId": "4cd84678-9dde-440f-e602-29c6ff9f688b"
      },
      "execution_count": 11,
      "outputs": [
        {
          "output_type": "stream",
          "name": "stderr",
          "text": [
            "100%|██████████| 6/6 [00:43<00:00,  7.18s/it]\n"
          ]
        }
      ]
    },
    {
      "cell_type": "code",
      "source": [
        "from FindPI.evaluate import ResultContainer\n",
        "\n",
        "results = [\n",
        "    ResultContainer(\"内接多角形\", path=\"data/result/内接多角形.pkl\"),\n",
        "    ResultContainer(\"外接多角形\", path=\"data/result/外接多角形.pkl\"),\n",
        "    # ResultContainer(\"モンテカルロ法\", path=\"data/result/モンテカルロ法.pkl\"),\n",
        "    ResultContainer(\"ライプニッツ級数\", path=\"data/result/ライプニッツ級数.pkl\"),\n",
        "    ResultContainer(\"チュドノフスキーの公式\", path=\"data/result/チュドノフスキーの公式.pkl\"),\n",
        "    ResultContainer(\"区分求積法\", path=\"data/result/区分求積法.pkl\"),\n",
        "    ResultContainer(\"二分法\", path=\"data/result/二分法.pkl\"),\n",
        "]"
      ],
      "metadata": {
        "id": "Pv2py_PLqvyy"
      },
      "execution_count": 12,
      "outputs": []
    },
    {
      "cell_type": "code",
      "source": [
        "import mpmath\n",
        "\n",
        "from FindPI.evaluate import Axis, HLine, PlotSettings, Plotter\n",
        "\n",
        "mpmath.mp.dps = 1000\n",
        "\n",
        "plot_settings = PlotSettings(\n",
        "    x_axis=Axis(\"time\", \"time\"),\n",
        "    y_axis=Axis(\"digit\", \"digit\"),\n",
        "    # hline=HLine(mpmath.pi(), \"π\"),\n",
        "    # marker=True\n",
        ")\n",
        "\n",
        "for result in results:\n",
        "    result.set_target(mpmath.pi())\n",
        "\n",
        "plotter = Plotter(\n",
        "    plot_settings=plot_settings,\n",
        "    results=results\n",
        ")"
      ],
      "metadata": {
        "id": "fpFEIC_0q0Z_"
      },
      "execution_count": 13,
      "outputs": []
    },
    {
      "cell_type": "code",
      "source": [
        "plotter.plot()"
      ],
      "metadata": {
        "colab": {
          "base_uri": "https://localhost:8080/"
        },
        "id": "wvKHmpBwq2UG",
        "outputId": "818f0541-25a4-4233-ef3a-686f50ee2204"
      },
      "execution_count": null,
      "outputs": [
        {
          "output_type": "stream",
          "name": "stderr",
          "text": [
            "2it [00:18, 16.59it/s]"
          ]
        }
      ]
    },
    {
      "cell_type": "code",
      "source": [
        "plotter.save(\"data/plot\")"
      ],
      "metadata": {
        "id": "7Ooo_vKfrEbb"
      },
      "execution_count": null,
      "outputs": []
    }
  ]
}